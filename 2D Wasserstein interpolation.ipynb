{
 "cells": [
  {
   "cell_type": "code",
   "execution_count": null,
   "metadata": {},
   "outputs": [],
   "source": [
    "import numpy as np\n",
    "import matplotlib.pyplot as plt\n",
    "import ot\n",
    "#\n",
    "N=4000"
   ]
  },
  {
   "cell_type": "code",
   "execution_count": null,
   "metadata": {},
   "outputs": [],
   "source": [
    "def sersic(Ie, re, r, n):\n",
    "    bn = 2*n - 1/3\n",
    "    return Ie * np.exp(-bn*((r/re)**(1/n)-1))\n",
    "\n",
    "def prob(Ie, re, r, n):\n",
    "    return sersic(Ie, re, r, n) * 2*np.pi*r\n",
    "    \n",
    "n = 1; re = 1; Ie = 1\n",
    "rmax = 5*re\n",
    "r = np.random.uniform(0,rmax,5*N)\n",
    "p = np.random.uniform(0,prob(1, re, re, n),5*N)\n",
    "\n",
    "mask = p <= prob(1, re, r, n)\n",
    "r = (r[mask])[:N]\n",
    "\n",
    "theta = np.random.uniform(0,2*np.pi,N)\n",
    "rx = r*np.cos(theta)\n",
    "ry = r*np.sin(theta)\n",
    "\n",
    "plt.hist2d(rx, ry, bins=100)\n",
    "plt.colorbar();\n",
    "x1 = [rx, ry]\n",
    "x1 = np.stack(np.rot90(x1))"
   ]
  },
  {
   "cell_type": "code",
   "execution_count": null,
   "metadata": {},
   "outputs": [],
   "source": [
    "def spiral(r, phi, Ie, re, n, Na, w, p):\n",
    "    return sersic(Ie, re, r, n) * (1 + w*np.sin(Na/np.tan(p) * np.log10(r) - Na*phi))\n",
    "\n",
    "def spiralprob(r, phi, Ie, re, n, Na, w, p):\n",
    "    return spiral(r, phi, Ie, re, n, Na, w, p) * r\n",
    "    \n",
    "n = 1; re = 1; Ie = 1; Na = 2; w = 0.8; p = 50*np.pi/180\n",
    "rmax = 5*re\n",
    "r = np.random.uniform(0,rmax,5*N)\n",
    "phi = np.random.uniform(0,2*np.pi,5*N)\n",
    "\n",
    "p = np.random.uniform(0,np.max(spiralprob(r, phi, Ie, re, n, Na, w, p)),5*N)\n",
    "\n",
    "mask = p <= spiralprob(r, phi, Ie, re, n, Na, w, p)\n",
    "r = (r[mask])[:N]\n",
    "phi = (phi[mask])[:N]\n",
    "\n",
    "rx = r*np.cos(phi)\n",
    "ry = r*np.sin(phi)\n",
    "\n",
    "plt.hist2d(rx, ry, bins=200)\n",
    "plt.colorbar();\n",
    "\n",
    "x2 = [rx, ry]\n",
    "x2 = np.stack(np.rot90(x2))"
   ]
  },
  {
   "cell_type": "code",
   "execution_count": null,
   "metadata": {},
   "outputs": [],
   "source": [
    "d = 2\n",
    "\n",
    "measures_locations = [x1, x2]\n",
    "measures_weights = [ot.unif(x1.shape[0]), ot.unif(x2.shape[0])]"
   ]
  },
  {
   "cell_type": "code",
   "execution_count": null,
   "metadata": {},
   "outputs": [],
   "source": [
    "#alphas = np.linspace(0,1,100)\n",
    "#weights = [0, 1-alphas]\n",
    "\n",
    "k = N  # number of Diracs of the barycenter\n",
    "X_init = np.random.normal(0.0, 1.0, (k, d))  # initial Dirac locations\n",
    "b = (\n",
    "    np.ones((k,)) / k\n",
    ")  # weights of the barycenter (it will not be optimized, only the locations are optimized)\n",
    "X = ot.lp.free_support_barycenter(measures_locations, measures_weights, X_init, b)\n",
    "fig, ax = plt.subplots(1, 3, figsize=(15, 5))\n",
    "\n",
    "ax[0].hist2d(x1[:, 0], x1[:, 1], bins=100)\n",
    "ax[1].hist2d(X[:, 0], X[:, 1], bins=100)\n",
    "ax[2].hist2d(x2[:, 0], x2[:, 1],bins=100)\n",
    "plt.show()"
   ]
  },
  {
   "cell_type": "code",
   "execution_count": null,
   "metadata": {},
   "outputs": [],
   "source": []
  },
  {
   "cell_type": "code",
   "execution_count": null,
   "metadata": {},
   "outputs": [],
   "source": []
  },
  {
   "cell_type": "code",
   "execution_count": null,
   "metadata": {},
   "outputs": [],
   "source": []
  }
 ],
 "metadata": {
  "kernelspec": {
   "display_name": "base",
   "language": "python",
   "name": "python3"
  },
  "language_info": {
   "codemirror_mode": {
    "name": "ipython",
    "version": 3
   },
   "file_extension": ".py",
   "mimetype": "text/x-python",
   "name": "python",
   "nbconvert_exporter": "python",
   "pygments_lexer": "ipython3",
   "version": "3.11.7"
  }
 },
 "nbformat": 4,
 "nbformat_minor": 2
}
