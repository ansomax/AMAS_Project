{
 "cells": [
  {
   "cell_type": "code",
   "execution_count": 1,
   "metadata": {},
   "outputs": [
    {
     "ename": "OSError",
     "evalue": "dlopen(Quartz.framework/Quartz, 0x0006): tried: 'Quartz.framework/Quartz' (no such file), '/System/Volumes/Preboot/Cryptexes/OSQuartz.framework/Quartz' (no such file), '/usr/lib/Quartz.framework/Quartz' (no such file, not in dyld cache), 'Quartz.framework/Quartz' (no such file)",
     "output_type": "error",
     "traceback": [
      "\u001b[0;31m---------------------------------------------------------------------------\u001b[0m",
      "\u001b[0;31mOSError\u001b[0m                                   Traceback (most recent call last)",
      "Cell \u001b[0;32mIn[1], line 2\u001b[0m\n\u001b[1;32m      1\u001b[0m \u001b[38;5;28;01mimport\u001b[39;00m \u001b[38;5;21;01mnumpy\u001b[39;00m \u001b[38;5;28;01mas\u001b[39;00m \u001b[38;5;21;01mnp\u001b[39;00m\n\u001b[0;32m----> 2\u001b[0m \u001b[38;5;28;01mimport\u001b[39;00m \u001b[38;5;21;01mvispy\u001b[39;00m\u001b[38;5;21;01m.\u001b[39;00m\u001b[38;5;21;01mscene\u001b[39;00m\n\u001b[1;32m      3\u001b[0m \u001b[38;5;28;01mfrom\u001b[39;00m \u001b[38;5;21;01mvispy\u001b[39;00m\u001b[38;5;21;01m.\u001b[39;00m\u001b[38;5;21;01mscene\u001b[39;00m \u001b[38;5;28;01mimport\u001b[39;00m visuals\n\u001b[1;32m      4\u001b[0m \u001b[38;5;28;01mimport\u001b[39;00m \u001b[38;5;21;01mscipy\u001b[39;00m\n",
      "File \u001b[0;32m~/Library/Python/3.9/lib/python/site-packages/vispy/__init__.py:27\u001b[0m\n\u001b[1;32m     23\u001b[0m \u001b[38;5;28;01mexcept\u001b[39;00m \u001b[38;5;167;01mImportError\u001b[39;00m:\n\u001b[1;32m     24\u001b[0m     \u001b[38;5;66;03m# package is not installed\u001b[39;00m\n\u001b[1;32m     25\u001b[0m     \u001b[38;5;28;01mpass\u001b[39;00m\n\u001b[0;32m---> 27\u001b[0m \u001b[38;5;28;01mfrom\u001b[39;00m \u001b[38;5;21;01m.\u001b[39;00m\u001b[38;5;21;01mutil\u001b[39;00m \u001b[38;5;28;01mimport\u001b[39;00m config, set_log_level, keys, sys_info  \u001b[38;5;66;03m# noqa\u001b[39;00m\n\u001b[1;32m     28\u001b[0m \u001b[38;5;28;01mfrom\u001b[39;00m \u001b[38;5;21;01m.\u001b[39;00m\u001b[38;5;21;01mutil\u001b[39;00m\u001b[38;5;21;01m.\u001b[39;00m\u001b[38;5;21;01mwrappers\u001b[39;00m \u001b[38;5;28;01mimport\u001b[39;00m use, test  \u001b[38;5;66;03m# noqa\u001b[39;00m\n\u001b[1;32m     31\u001b[0m \u001b[38;5;28;01mdef\u001b[39;00m \u001b[38;5;21m_get_sg_image_scraper\u001b[39m():\n",
      "File \u001b[0;32m~/Library/Python/3.9/lib/python/site-packages/vispy/util/__init__.py:14\u001b[0m\n\u001b[1;32m     12\u001b[0m \u001b[38;5;28;01mfrom\u001b[39;00m \u001b[38;5;21;01m.\u001b[39;00m\u001b[38;5;21;01mfetching\u001b[39;00m \u001b[38;5;28;01mimport\u001b[39;00m load_data_file  \u001b[38;5;66;03m# noqa\u001b[39;00m\n\u001b[1;32m     13\u001b[0m \u001b[38;5;28;01mfrom\u001b[39;00m \u001b[38;5;21;01m.\u001b[39;00m\u001b[38;5;21;01mfrozen\u001b[39;00m \u001b[38;5;28;01mimport\u001b[39;00m Frozen  \u001b[38;5;66;03m# noqa\u001b[39;00m\n\u001b[0;32m---> 14\u001b[0m \u001b[38;5;28;01mfrom\u001b[39;00m \u001b[38;5;21;01m.\u001b[39;00m \u001b[38;5;28;01mimport\u001b[39;00m fonts       \u001b[38;5;66;03m# noqa\u001b[39;00m\n\u001b[1;32m     15\u001b[0m \u001b[38;5;28;01mfrom\u001b[39;00m \u001b[38;5;21;01m.\u001b[39;00m \u001b[38;5;28;01mimport\u001b[39;00m transforms  \u001b[38;5;66;03m# noqa\u001b[39;00m\n\u001b[1;32m     16\u001b[0m \u001b[38;5;28;01mfrom\u001b[39;00m \u001b[38;5;21;01m.\u001b[39;00m\u001b[38;5;21;01mwrappers\u001b[39;00m \u001b[38;5;28;01mimport\u001b[39;00m use, run_subprocess  \u001b[38;5;66;03m# noqa\u001b[39;00m\n",
      "File \u001b[0;32m~/Library/Python/3.9/lib/python/site-packages/vispy/util/fonts/__init__.py:13\u001b[0m\n\u001b[1;32m      6\u001b[0m \u001b[38;5;124;03m\"\"\"\u001b[39;00m\n\u001b[1;32m      7\u001b[0m \u001b[38;5;124;03mThe fonts module implements some helpful functions for dealing with system\u001b[39;00m\n\u001b[1;32m      8\u001b[0m \u001b[38;5;124;03mfonts.\u001b[39;00m\n\u001b[1;32m      9\u001b[0m \u001b[38;5;124;03m\"\"\"\u001b[39;00m\n\u001b[1;32m     11\u001b[0m __all__ \u001b[38;5;241m=\u001b[39m [\u001b[38;5;124m'\u001b[39m\u001b[38;5;124mlist_fonts\u001b[39m\u001b[38;5;124m'\u001b[39m]\n\u001b[0;32m---> 13\u001b[0m \u001b[38;5;28;01mfrom\u001b[39;00m \u001b[38;5;21;01m.\u001b[39;00m\u001b[38;5;21;01m_triage\u001b[39;00m \u001b[38;5;28;01mimport\u001b[39;00m _load_glyph, list_fonts  \u001b[38;5;66;03m# noqa, analysis:ignore\u001b[39;00m\n\u001b[1;32m     14\u001b[0m \u001b[38;5;28;01mfrom\u001b[39;00m \u001b[38;5;21;01m.\u001b[39;00m\u001b[38;5;21;01m_vispy_fonts\u001b[39;00m \u001b[38;5;28;01mimport\u001b[39;00m _vispy_fonts  \u001b[38;5;66;03m# noqa, analysis:ignore\u001b[39;00m\n",
      "File \u001b[0;32m~/Library/Python/3.9/lib/python/site-packages/vispy/util/fonts/_triage.py:14\u001b[0m\n\u001b[1;32m     12\u001b[0m     \u001b[38;5;28;01mfrom\u001b[39;00m \u001b[38;5;21;01m.\u001b[39;00m\u001b[38;5;21;01m.\u001b[39;00m\u001b[38;5;21;01m.\u001b[39;00m\u001b[38;5;21;01mext\u001b[39;00m\u001b[38;5;21;01m.\u001b[39;00m\u001b[38;5;21;01mfontconfig\u001b[39;00m \u001b[38;5;28;01mimport\u001b[39;00m _list_fonts\n\u001b[1;32m     13\u001b[0m \u001b[38;5;28;01melif\u001b[39;00m sys\u001b[38;5;241m.\u001b[39mplatform \u001b[38;5;241m==\u001b[39m \u001b[38;5;124m'\u001b[39m\u001b[38;5;124mdarwin\u001b[39m\u001b[38;5;124m'\u001b[39m:\n\u001b[0;32m---> 14\u001b[0m     \u001b[38;5;28;01mfrom\u001b[39;00m \u001b[38;5;21;01m.\u001b[39;00m\u001b[38;5;21;01m_quartz\u001b[39;00m \u001b[38;5;28;01mimport\u001b[39;00m _load_glyph, _list_fonts\n\u001b[1;32m     15\u001b[0m \u001b[38;5;28;01melif\u001b[39;00m sys\u001b[38;5;241m.\u001b[39mplatform\u001b[38;5;241m.\u001b[39mstartswith(\u001b[38;5;124m'\u001b[39m\u001b[38;5;124mwin\u001b[39m\u001b[38;5;124m'\u001b[39m):\n\u001b[1;32m     16\u001b[0m     \u001b[38;5;28;01mfrom\u001b[39;00m \u001b[38;5;21;01m.\u001b[39;00m\u001b[38;5;21;01m_freetype\u001b[39;00m \u001b[38;5;28;01mimport\u001b[39;00m _load_glyph  \u001b[38;5;66;03m# noqa, analysis:ignore\u001b[39;00m\n",
      "File \u001b[0;32m~/Library/Python/3.9/lib/python/site-packages/vispy/util/fonts/_quartz.py:12\u001b[0m\n\u001b[1;32m      9\u001b[0m \u001b[38;5;28;01mimport\u001b[39;00m \u001b[38;5;21;01mnumpy\u001b[39;00m \u001b[38;5;28;01mas\u001b[39;00m \u001b[38;5;21;01mnp\u001b[39;00m\n\u001b[1;32m     10\u001b[0m \u001b[38;5;28;01mfrom\u001b[39;00m \u001b[38;5;21;01mctypes\u001b[39;00m \u001b[38;5;28;01mimport\u001b[39;00m byref, c_int32, c_byte\n\u001b[0;32m---> 12\u001b[0m \u001b[38;5;28;01mfrom\u001b[39;00m \u001b[38;5;21;01m.\u001b[39;00m\u001b[38;5;21;01m.\u001b[39;00m\u001b[38;5;21;01m.\u001b[39;00m\u001b[38;5;21;01mext\u001b[39;00m\u001b[38;5;21;01m.\u001b[39;00m\u001b[38;5;21;01mcocoapy\u001b[39;00m \u001b[38;5;28;01mimport\u001b[39;00m cf, ct, quartz, CFRange, CFSTR, CGGlyph, UniChar, \\\n\u001b[1;32m     13\u001b[0m     kCTFontFamilyNameAttribute, kCTFontBoldTrait, kCTFontItalicTrait, \\\n\u001b[1;32m     14\u001b[0m     kCTFontSymbolicTrait, kCTFontTraitsAttribute, kCTFontAttributeName, \\\n\u001b[1;32m     15\u001b[0m     kCGImageAlphaPremultipliedLast, kCFNumberSInt32Type, ObjCClass\n\u001b[1;32m     16\u001b[0m \u001b[38;5;28;01mfrom\u001b[39;00m \u001b[38;5;21;01m.\u001b[39;00m\u001b[38;5;21;01m_vispy_fonts\u001b[39;00m \u001b[38;5;28;01mimport\u001b[39;00m _vispy_fonts, _get_vispy_font_filename\n\u001b[1;32m     18\u001b[0m _font_dict \u001b[38;5;241m=\u001b[39m {}\n",
      "File \u001b[0;32m~/Library/Python/3.9/lib/python/site-packages/vispy/ext/cocoapy.py:1288\u001b[0m\n\u001b[1;32m   1282\u001b[0m NSApplicationActivationPolicyProhibited \u001b[38;5;241m=\u001b[39m \u001b[38;5;241m2\u001b[39m\n\u001b[1;32m   1284\u001b[0m \u001b[38;5;66;03m######################################################################\u001b[39;00m\n\u001b[1;32m   1285\u001b[0m \n\u001b[1;32m   1286\u001b[0m \u001b[38;5;66;03m# QUARTZ / COREGRAPHICS\u001b[39;00m\n\u001b[0;32m-> 1288\u001b[0m quartz \u001b[38;5;241m=\u001b[39m \u001b[43mcdll\u001b[49m\u001b[38;5;241;43m.\u001b[39;49m\u001b[43mLoadLibrary\u001b[49m\u001b[43m(\u001b[49m\u001b[43mutil\u001b[49m\u001b[38;5;241;43m.\u001b[39;49m\u001b[43mfind_library\u001b[49m\u001b[43m(\u001b[49m\u001b[38;5;124;43m'\u001b[39;49m\u001b[38;5;124;43mquartz\u001b[39;49m\u001b[38;5;124;43m'\u001b[39;49m\u001b[43m)\u001b[49m\u001b[43m)\u001b[49m\n\u001b[1;32m   1290\u001b[0m CGDirectDisplayID \u001b[38;5;241m=\u001b[39m c_uint32     \u001b[38;5;66;03m# CGDirectDisplay.h\u001b[39;00m\n\u001b[1;32m   1291\u001b[0m CGError \u001b[38;5;241m=\u001b[39m c_int32                \u001b[38;5;66;03m# CGError.h\u001b[39;00m\n",
      "File \u001b[0;32m/Library/Developer/CommandLineTools/Library/Frameworks/Python3.framework/Versions/3.9/lib/python3.9/ctypes/__init__.py:444\u001b[0m, in \u001b[0;36mLibraryLoader.LoadLibrary\u001b[0;34m(self, name)\u001b[0m\n\u001b[1;32m    443\u001b[0m \u001b[38;5;28;01mdef\u001b[39;00m \u001b[38;5;21mLoadLibrary\u001b[39m(\u001b[38;5;28mself\u001b[39m, name):\n\u001b[0;32m--> 444\u001b[0m     \u001b[38;5;28;01mreturn\u001b[39;00m \u001b[38;5;28;43mself\u001b[39;49m\u001b[38;5;241;43m.\u001b[39;49m\u001b[43m_dlltype\u001b[49m\u001b[43m(\u001b[49m\u001b[43mname\u001b[49m\u001b[43m)\u001b[49m\n",
      "File \u001b[0;32m/Library/Developer/CommandLineTools/Library/Frameworks/Python3.framework/Versions/3.9/lib/python3.9/ctypes/__init__.py:366\u001b[0m, in \u001b[0;36mCDLL.__init__\u001b[0;34m(self, name, mode, handle, use_errno, use_last_error, winmode)\u001b[0m\n\u001b[1;32m    363\u001b[0m \u001b[38;5;28mself\u001b[39m\u001b[38;5;241m.\u001b[39m_FuncPtr \u001b[38;5;241m=\u001b[39m _FuncPtr\n\u001b[1;32m    365\u001b[0m \u001b[38;5;28;01mif\u001b[39;00m handle \u001b[38;5;129;01mis\u001b[39;00m \u001b[38;5;28;01mNone\u001b[39;00m:\n\u001b[0;32m--> 366\u001b[0m     \u001b[38;5;28mself\u001b[39m\u001b[38;5;241m.\u001b[39m_handle \u001b[38;5;241m=\u001b[39m \u001b[43m_dlopen\u001b[49m\u001b[43m(\u001b[49m\u001b[38;5;28;43mself\u001b[39;49m\u001b[38;5;241;43m.\u001b[39;49m\u001b[43m_name\u001b[49m\u001b[43m,\u001b[49m\u001b[43m \u001b[49m\u001b[43mmode\u001b[49m\u001b[43m)\u001b[49m\n\u001b[1;32m    367\u001b[0m \u001b[38;5;28;01melse\u001b[39;00m:\n\u001b[1;32m    368\u001b[0m     \u001b[38;5;28mself\u001b[39m\u001b[38;5;241m.\u001b[39m_handle \u001b[38;5;241m=\u001b[39m handle\n",
      "\u001b[0;31mOSError\u001b[0m: dlopen(Quartz.framework/Quartz, 0x0006): tried: 'Quartz.framework/Quartz' (no such file), '/System/Volumes/Preboot/Cryptexes/OSQuartz.framework/Quartz' (no such file), '/usr/lib/Quartz.framework/Quartz' (no such file, not in dyld cache), 'Quartz.framework/Quartz' (no such file)"
     ]
    }
   ],
   "source": [
    "import numpy as np\n",
    "import vispy.scene\n",
    "from vispy.scene import visuals\n",
    "import scipy\n",
    "import sys\n",
    "from vispy import app, scene\n",
    "from vispy.visuals.transforms import STTransform\n",
    "import os\n",
    "import h5py\n",
    "\n",
    "iterator = 0\n",
    "\n",
    "def interactive_animate(positions, ps, qs, loaded_properties = None, alpha=10,\n",
    "                     frame_every = 1, interval=1/30, save=True ):\n",
    "    print('Animating')\n",
    "\n",
    "    # Load the data\n",
    "    xs = positions\n",
    "\n",
    "    # Make a canvas and add simple view\n",
    "    canvas = vispy.scene.SceneCanvas(keys='interactive', show=True)\n",
    "    view = canvas.central_widget.add_view()                               \n",
    "\n",
    "    size = 2.0\n",
    "\n",
    "    # Create scatter object and fill in the data\n",
    "    colors = [(1,0,0) for i in range(len(xs[0]))]\n",
    "\n",
    "    different_colors = [(0,1,0), (1,0,0), (0,0,1), (1,1,0), (0,1,1), (1,0,1), (0,0,0)]\n",
    "\n",
    "    if loaded_properties is not None:\n",
    "        colors = [different_colors[int(l)] for l in loaded_properties]\n",
    "\n",
    "    scatter1 = visuals.Markers(scaling=True, alpha=alpha, spherical=True)\n",
    "    scatter1.set_data(xs[0], edge_width=0, face_color=(1, 1, 1, .5), size=size)\n",
    "\n",
    "    # color so we can see the direction of the particles\n",
    "    scatter2 = visuals.Markers(scaling=True, alpha=alpha, spherical=True)\n",
    "    scatter2.set_data(xs[0] + ps[0]/5, edge_width=0, face_color=colors, size=size)\n",
    "\n",
    "        # color so we can see the direction of the particles\n",
    "    scatter3 = visuals.Markers(scaling=True, alpha=alpha, spherical=True)\n",
    "    scatter3.set_data(xs[0] + qs[0]/5, edge_width=0, face_color=(0.9,0.9,0), size=size)\n",
    "\n",
    "\n",
    "    view.add(scatter1)\n",
    "    view.add(scatter2)\n",
    "    view.add(scatter3)\n",
    "\n",
    "\n",
    "    def update(ev):\n",
    "        global iterator\n",
    "        scatter1.set_data(xs[int(iterator%len(xs))], edge_width=0, face_color=(1, 1, 1, .5), size=size)\n",
    "        scatter2.set_data(xs[int(iterator%len(xs))] + ps[int(iterator%len(xs))]/10, edge_width=0, face_color=colors, size=size)\n",
    "        scatter3.set_data(xs[int(iterator%len(xs))] + qs[int(iterator%len(xs))]/9, edge_width=0, face_color=(0.9,0.9,0), size=size)\n",
    "        iterator += 1\n",
    "        if iterator >= len(xs):\n",
    "            iterator = len(xs)-1\n",
    "    timer = app.Timer(interval=interval)\n",
    "    timer.connect(update)\n",
    "    timer.start()\n",
    "\n",
    "    # We want to fly around\n",
    "    view.camera = 'fly'\n",
    "\n",
    "    if sys.flags.interactive != 1:\n",
    "        vispy.app.run()\n",
    "\n",
    "    vispy.app.quit()\n",
    "\n"
   ]
  },
  {
   "cell_type": "code",
   "execution_count": null,
   "metadata": {},
   "outputs": [],
   "source": [
    "#interactive_animate(positions, ps, qs, loaded_properties[0])\n"
   ]
  }
 ],
 "metadata": {
  "kernelspec": {
   "display_name": "Python 3",
   "language": "python",
   "name": "python3"
  },
  "language_info": {
   "codemirror_mode": {
    "name": "ipython",
    "version": 3
   },
   "file_extension": ".py",
   "mimetype": "text/x-python",
   "name": "python",
   "nbconvert_exporter": "python",
   "pygments_lexer": "ipython3",
   "version": "3.9.6"
  }
 },
 "nbformat": 4,
 "nbformat_minor": 2
}
